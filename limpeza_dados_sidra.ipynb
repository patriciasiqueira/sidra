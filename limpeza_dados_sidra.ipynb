{
  "nbformat": 4,
  "nbformat_minor": 0,
  "metadata": {
    "colab": {
      "provenance": []
    },
    "kernelspec": {
      "name": "python3",
      "display_name": "Python 3"
    },
    "language_info": {
      "name": "python"
    }
  },
  "cells": [
    {
      "cell_type": "code",
      "source": [
        "import pandas as pd\n",
        "import numpy as np\n",
        "pd.options.display.float_format = '{:.2f}'.format    # pandas: para todos os números aparecerem com duas casas decimais"
      ],
      "metadata": {
        "id": "sCbrk3ZcEbFi"
      },
      "execution_count": null,
      "outputs": []
    },
    {
      "cell_type": "markdown",
      "source": [
        "Para salvar os dados:\n",
        "- fui em https://sidra.ibge.gov.br/tabela/6957\n",
        "- selecionei quantidade produzida e valor da produção total de cana, milho, soja, sorgo e trigo (dados de 2017)\n",
        "- em todas as opções eu escolhi Total\n",
        "- 'unidade territorial': municípios\n",
        "- fiz o download da planilha como xlsx\n",
        "- o nome do arquivo ficou 'tabela6957.xlsx'"
      ],
      "metadata": {
        "id": "-8Gsyh3NmLB_"
      }
    },
    {
      "cell_type": "markdown",
      "source": [
        "# Quantidade produzida (toneladas) em 2017"
      ],
      "metadata": {
        "id": "-4dRneeNyFj-"
      }
    },
    {
      "cell_type": "markdown",
      "source": [
        "Antes, carregar os dados no ambiente colab (na pastinha à esquerda, fazer upload do arquivo tabela6957.xlsx)."
      ],
      "metadata": {
        "id": "dKjLONzEjrZq"
      }
    },
    {
      "cell_type": "code",
      "source": [
        "# sheet_name=0 significa a primeira planilha do arquivo\n",
        "df = pd.read_excel('tabela6957.xlsx', sheet_name=0)"
      ],
      "metadata": {
        "id": "GQqltvnie_wG"
      },
      "execution_count": null,
      "outputs": []
    },
    {
      "cell_type": "markdown",
      "source": [
        "Vamos ver as primeiras linhas do *dataframe*:"
      ],
      "metadata": {
        "id": "gidcSUj1t8Oa"
      }
    },
    {
      "cell_type": "code",
      "source": [
        "df.head()"
      ],
      "metadata": {
        "id": "P2mt8oQWfRWr"
      },
      "execution_count": null,
      "outputs": []
    },
    {
      "cell_type": "markdown",
      "source": [
        "Vamos realizar algumas alterações:\n",
        "\n",
        "- começar a ler da linha 6, ou seja, vamos pular 5 linhas\n",
        "- a última linha também é desnecessária, vamos desconsiderá-la\n",
        "- não queremos ler as colunas 0, 3 e 4 (Nível, Condições, Grupos de atividade econômica)\n",
        "- para ajudar a visualizar os dados, vamos já alterar os nomes das colunas"
      ],
      "metadata": {
        "id": "RMpxqTCbZptK"
      }
    },
    {
      "cell_type": "code",
      "source": [
        "# criar uma lista com os índices das colunas a retirar\n",
        "pular = [0, 3, 4]\n",
        "# criar uma lista com os índices das colunas a manter\n",
        "cols = [i for i in range(len(df.columns)) if i not in pular]\n",
        "# índices das colunas a manter\n",
        "cols"
      ],
      "metadata": {
        "id": "0wqCzkH4ej68"
      },
      "execution_count": null,
      "outputs": []
    },
    {
      "cell_type": "code",
      "source": [
        "# ler os dados desconsiderando as 5 primeiras linhas e a última linha\n",
        "# considerar as colunas que estão na lista 'cols'\n",
        "df = pd.read_excel('tabela6957.xlsx', skiprows=5, skipfooter=1, usecols=cols, sheet_name=0)\n",
        "# alterar os nomes das colunas\n",
        "df.columns = ['mun', 'nome_mun', 'cana', 'milho', 'soja', 'sorgo', 'trigo']"
      ],
      "metadata": {
        "id": "Z0gEJYfuaE4d"
      },
      "execution_count": null,
      "outputs": []
    },
    {
      "cell_type": "code",
      "source": [
        "df.head()"
      ],
      "metadata": {
        "id": "1OC0SuMzeGy_"
      },
      "execution_count": null,
      "outputs": []
    },
    {
      "cell_type": "markdown",
      "source": [
        "Número de observações e variáveis do conjunto de dados:"
      ],
      "metadata": {
        "id": "gJDQm-ynmze5"
      }
    },
    {
      "cell_type": "code",
      "source": [
        "df.shape"
      ],
      "metadata": {
        "id": "0DUzab8XmyMf"
      },
      "execution_count": null,
      "outputs": []
    },
    {
      "cell_type": "markdown",
      "source": [
        "- A coluna 'município' tem o nome do município e, entre parênteses, a sigla do estado.\n",
        "- Vamos usar a função str.split para dividir o conteúdo a partir de '(':"
      ],
      "metadata": {
        "id": "JFdwlSkikKm2"
      }
    },
    {
      "cell_type": "code",
      "source": [
        "# a opção 'expand=True' divide a string e já permite criar as colunas com os\n",
        "# conteúdos divididos\n",
        "df[['nome_mun', 'uf']] = df['nome_mun'].str.split('(', expand=True)\n",
        "df.head()"
      ],
      "metadata": {
        "id": "gf0MO7LlfxLj"
      },
      "execution_count": null,
      "outputs": []
    },
    {
      "cell_type": "markdown",
      "source": [
        "- A coluna 'sigla_uf' tem o ')' no final.\n",
        "- Vamos usar a função str.replace para substituir ')' por nada\n",
        "- regex significa 'expressões regulares', uma sequência de caracteres que podem ser pesquisados, substituídos etc."
      ],
      "metadata": {
        "id": "gmZlSrqnlgov"
      }
    },
    {
      "cell_type": "code",
      "source": [
        "df['uf'] = df['uf'].str.replace(')', '', regex=True)\n",
        "df.head()"
      ],
      "metadata": {
        "id": "mu_eXRVUgugO"
      },
      "execution_count": null,
      "outputs": []
    },
    {
      "cell_type": "code",
      "source": [
        "df.columns"
      ],
      "metadata": {
        "id": "tmNcEh5th7Zl"
      },
      "execution_count": null,
      "outputs": []
    },
    {
      "cell_type": "code",
      "source": [
        "# reorganizar as colunas\n",
        "df = df.loc[:, ['mun', 'nome_mun', 'uf', 'cana', 'milho', 'soja', 'sorgo', 'trigo']]"
      ],
      "metadata": {
        "id": "kgjKtMwaaG0D"
      },
      "execution_count": null,
      "outputs": []
    },
    {
      "cell_type": "markdown",
      "source": [
        "Há valores faltantes?"
      ],
      "metadata": {
        "id": "nkVouqNbjAad"
      }
    },
    {
      "cell_type": "code",
      "source": [
        "df.isna().sum()"
      ],
      "metadata": {
        "id": "f8QeHtzRjDFc"
      },
      "execution_count": null,
      "outputs": []
    },
    {
      "cell_type": "code",
      "source": [
        "print(df[['cana']].value_counts())\n",
        "print(df[['milho']].value_counts())\n",
        "print(df[['soja']].value_counts())\n",
        "print(df[['sorgo']].value_counts())\n",
        "print(df[['trigo']].value_counts())"
      ],
      "metadata": {
        "id": "N_nHq-tduptP"
      },
      "execution_count": null,
      "outputs": []
    },
    {
      "cell_type": "markdown",
      "source": [
        "Nas notas da planilha, há as seguintes informações:\n",
        "\n",
        "* -: zero absoluto, não resultante de um cálculo ou arredondamento.\n",
        "* 0: zero resultante de um cálculo ou arredondamento.\n",
        "* X: valor inibido para não identificar o informante.\n",
        "* ..: valor não se aplica\n",
        "* ...: valor não disponível\n"
      ],
      "metadata": {
        "id": "2VaFbg5Ts9p-"
      }
    },
    {
      "cell_type": "markdown",
      "source": [
        "Primeira abordagem: substituir todos esses valores por 0.\n",
        "\n",
        "Mas antes, vamos fazer uma cópia dos dados que já trabalhamos:"
      ],
      "metadata": {
        "id": "CKMKRF8bsZMr"
      }
    },
    {
      "cell_type": "code",
      "source": [
        "df1 = df.copy()"
      ],
      "metadata": {
        "id": "vM6mopM-tSWu"
      },
      "execution_count": null,
      "outputs": []
    },
    {
      "cell_type": "code",
      "source": [
        "df1 = df1.replace(['-', '...', 'X'], 0)"
      ],
      "metadata": {
        "id": "Ox2CveDvsatv"
      },
      "execution_count": null,
      "outputs": []
    },
    {
      "cell_type": "markdown",
      "source": [
        "Antes de limpar mais os dados, vamos visualizar o resumo estatístico:"
      ],
      "metadata": {
        "id": "tFVr4Z_Stdtk"
      }
    },
    {
      "cell_type": "code",
      "source": [
        "# resumo estatístico\n",
        "df1.iloc[:, 3:].describe()"
      ],
      "metadata": {
        "id": "Nk7go-pLsdNE"
      },
      "execution_count": null,
      "outputs": []
    },
    {
      "cell_type": "markdown",
      "source": [
        "Agora vamos adotar outra estratégia:\n",
        "- substituir por 0 se aparecer -\n",
        "- retirar as linhas em que aparecerem X, .. ou ...\n",
        "\n",
        "Vamos alterar o próprio *dataframe* df:"
      ],
      "metadata": {
        "id": "HjoNtzLWsYMw"
      }
    },
    {
      "cell_type": "code",
      "source": [
        "df = df.replace(['-'], 0)\n",
        "df = df.replace(['X', '..', '...'], np.nan).dropna(axis=0, how='any')\n",
        "df.head()"
      ],
      "metadata": {
        "id": "93SyUi9Baq8v"
      },
      "execution_count": null,
      "outputs": []
    },
    {
      "cell_type": "code",
      "source": [
        "df.iloc[:, 3:].describe()"
      ],
      "metadata": {
        "id": "_o6LW7_9r6Ls"
      },
      "execution_count": null,
      "outputs": []
    },
    {
      "cell_type": "code",
      "source": [
        "# checar os tipos das variáveis\n",
        "df.info()"
      ],
      "metadata": {
        "id": "_043N8gFUVP4"
      },
      "execution_count": null,
      "outputs": []
    },
    {
      "cell_type": "code",
      "source": [
        "df.shape"
      ],
      "metadata": {
        "id": "OuOSU71OUe_i"
      },
      "execution_count": null,
      "outputs": []
    },
    {
      "cell_type": "markdown",
      "source": [
        "Se quisermos salvar o novo arquivo:"
      ],
      "metadata": {
        "id": "wb1wW18UjRb6"
      }
    },
    {
      "cell_type": "code",
      "source": [
        "df.to_excel('qtde-6957.xlsx', index=False)"
      ],
      "metadata": {
        "id": "g2iSMx2FjTmp"
      },
      "execution_count": null,
      "outputs": []
    },
    {
      "cell_type": "markdown",
      "source": [
        "## Filtrar dados\n",
        "\n",
        "E se quisermos selecionar uma parte dos dados: um estado, uma região etc.?\n"
      ],
      "metadata": {
        "id": "yI-NbZkPQ_nK"
      }
    },
    {
      "cell_type": "code",
      "source": [
        "df.sample(5)"
      ],
      "metadata": {
        "id": "AwNp3I54m7_9"
      },
      "execution_count": null,
      "outputs": []
    },
    {
      "cell_type": "code",
      "source": [
        "# podemos selecionar um ou mais estados, por exemplo\n",
        "dados = df.query('uf == \"MG\"')"
      ],
      "metadata": {
        "id": "cqJb9zUERftW"
      },
      "execution_count": null,
      "outputs": []
    },
    {
      "cell_type": "code",
      "source": [
        "# começar os índices do zero\n",
        "dados = dados.reset_index(drop=True)"
      ],
      "metadata": {
        "id": "8I0jK8w3SgdC"
      },
      "execution_count": null,
      "outputs": []
    },
    {
      "cell_type": "code",
      "source": [
        "dados.head()"
      ],
      "metadata": {
        "id": "f8B3k90BS4tU"
      },
      "execution_count": null,
      "outputs": []
    },
    {
      "cell_type": "code",
      "source": [
        "dados.shape"
      ],
      "metadata": {
        "id": "dG-BxSx3S0Pk"
      },
      "execution_count": null,
      "outputs": []
    },
    {
      "cell_type": "code",
      "source": [
        "dados.to_excel('qtde-mg.xlsx', index=False)"
      ],
      "metadata": {
        "id": "__hoPtS2SjsM"
      },
      "execution_count": null,
      "outputs": []
    },
    {
      "cell_type": "code",
      "source": [
        "# podemos selecionar um ou mais estados, por exemplo\n",
        "dados = df.query('(uf == \"MG\") or (uf == \"SP\")')\n",
        "dados = dados.reset_index(drop=True)   # zerar os índices\n",
        "dados.shape"
      ],
      "metadata": {
        "id": "QV5zrhnZSJmB"
      },
      "execution_count": null,
      "outputs": []
    },
    {
      "cell_type": "code",
      "source": [
        "dados.sample(10)"
      ],
      "metadata": {
        "id": "65VcvCLQS_XA"
      },
      "execution_count": null,
      "outputs": []
    },
    {
      "cell_type": "markdown",
      "source": [
        "## Unir os dados com outras informações sobre os municípios\n",
        "\n",
        "Dessa forma podemos incorporar novas informações ao *dataframe*."
      ],
      "metadata": {
        "id": "t5zelvqlTMLe"
      }
    },
    {
      "cell_type": "code",
      "source": [
        "df.sample(5)"
      ],
      "metadata": {
        "id": "9rSOEvoud_a4"
      },
      "execution_count": null,
      "outputs": []
    },
    {
      "cell_type": "code",
      "source": [
        "# dados do Brasil todo\n",
        "df.shape"
      ],
      "metadata": {
        "id": "5CtemJbaTPkC"
      },
      "execution_count": null,
      "outputs": []
    },
    {
      "cell_type": "code",
      "source": [
        "df.info()"
      ],
      "metadata": {
        "id": "hfP2RudJWeHk"
      },
      "execution_count": null,
      "outputs": []
    },
    {
      "cell_type": "markdown",
      "source": [
        "Se alguma variável que precisa ser de um tipo e não for:"
      ],
      "metadata": {
        "id": "lZDlsFKiWhNJ"
      }
    },
    {
      "cell_type": "code",
      "source": [
        "# df['mun'] = df['mun'].astype(int)  # transformar códigos em inteiros caso não forem"
      ],
      "metadata": {
        "id": "qVhhHfkUWgNY"
      },
      "execution_count": null,
      "outputs": []
    },
    {
      "cell_type": "markdown",
      "source": [
        "Podemos unir esses dados com um outro que possui outras informações, como mesorregiões, microrregiões etc. e realizar outras filtragens:"
      ],
      "metadata": {
        "id": "Tcc-YX0cRx3j"
      }
    },
    {
      "cell_type": "code",
      "source": [
        "# informações sobre as observações\n",
        "cod = pd.read_csv('https://raw.githubusercontent.com/patriciasiqueira/patriciasiqueira.github.io/master/arquivos/codigos-municipios.csv', encoding='utf8')\n",
        "cod.head()"
      ],
      "metadata": {
        "id": "UMv-y7xQTRQR"
      },
      "execution_count": null,
      "outputs": []
    },
    {
      "cell_type": "markdown",
      "source": [
        "Se precisarmos mudar o nome de alguma coluna de um dos *dataframes* para coincidir:"
      ],
      "metadata": {
        "id": "CoPwHzzzV0Tw"
      }
    },
    {
      "cell_type": "code",
      "source": [
        "# cod.rename(columns={'codmun6': 'cod'}, inplace=True)  # mudar nome da coluna 'codmun6' para 'cod', por exemplo"
      ],
      "metadata": {
        "id": "BmywE1q-TYN9"
      },
      "execution_count": null,
      "outputs": []
    },
    {
      "cell_type": "markdown",
      "source": [
        "Vamos selecionar algumas variáveis de 'cod' para utilizar:"
      ],
      "metadata": {
        "id": "5pusUY4iXb4j"
      }
    },
    {
      "cell_type": "code",
      "source": [
        "cod = cod.loc[:, ['mun', 'nome_micro', 'nome_meso', 'nome_regiao']]"
      ],
      "metadata": {
        "id": "i_dNMBo2XbVq"
      },
      "execution_count": null,
      "outputs": []
    },
    {
      "cell_type": "code",
      "source": [
        "# mesclar os dois dataframes\n",
        "df3 = df.merge(cod, on='mun')\n",
        "df3.head()"
      ],
      "metadata": {
        "id": "SnCtdz8CTUix"
      },
      "execution_count": null,
      "outputs": []
    },
    {
      "cell_type": "markdown",
      "source": [
        "Se quisermos tirar alguma variável (coluna):"
      ],
      "metadata": {
        "id": "ATBery7_WtwO"
      }
    },
    {
      "cell_type": "code",
      "source": [
        "# apagar coluna redundante com o nome do município\n",
        "df3 = df3.drop('nome_micro', axis=1)"
      ],
      "metadata": {
        "id": "e7_OruzfWstY"
      },
      "execution_count": null,
      "outputs": []
    },
    {
      "cell_type": "code",
      "source": [
        "df3.head()"
      ],
      "metadata": {
        "id": "84H6mxzXeqGF"
      },
      "execution_count": null,
      "outputs": []
    },
    {
      "cell_type": "code",
      "source": [
        "df3.to_excel('producao-qtde-br.xlsx', index=False)"
      ],
      "metadata": {
        "id": "I1R9j05Oe39U"
      },
      "execution_count": null,
      "outputs": []
    },
    {
      "cell_type": "markdown",
      "source": [
        "# Valor da produção (milhares de reais) em 2017"
      ],
      "metadata": {
        "id": "t72YX7OFyVqK"
      }
    },
    {
      "cell_type": "markdown",
      "source": [
        "Antes, carregar os dados no ambiente colab (na pastinha à esquerda, fazer upload do arquivo tabela6957.xlsx)."
      ],
      "metadata": {
        "id": "8aJsgfajyVqf"
      }
    },
    {
      "cell_type": "code",
      "source": [
        "# sheet_name=1 significa a segunda planilha do arquivo\n",
        "df = pd.read_excel('tabela6957.xlsx', sheet_name=1)"
      ],
      "metadata": {
        "id": "Kr-r4V8fyVqf"
      },
      "execution_count": null,
      "outputs": []
    },
    {
      "cell_type": "markdown",
      "source": [
        "Vamos ver as primeiras linhas do *dataframe*:"
      ],
      "metadata": {
        "id": "l4uZMiSdyVqg"
      }
    },
    {
      "cell_type": "code",
      "source": [
        "df.head()"
      ],
      "metadata": {
        "id": "2f9PmP4zyVqg"
      },
      "execution_count": null,
      "outputs": []
    },
    {
      "cell_type": "markdown",
      "source": [
        "Vamos realizar algumas alterações:\n",
        "\n",
        "- começar a ler da linha 6, ou seja, vamos pular 5 linhas\n",
        "- a última linha também é desnecessária, vamos desconsiderá-la\n",
        "- não queremos ler as colunas 0, 3 e 4 (Nível, Condições, Grupos de atividade econômica)\n",
        "- para ajudar a visualizar os dados, vamos já alterar os nomes das colunas"
      ],
      "metadata": {
        "id": "GWXakHENyVqh"
      }
    },
    {
      "cell_type": "code",
      "source": [
        "# criar uma lista com os índices das colunas a retirar\n",
        "pular = [0, 3, 4]\n",
        "# criar uma lista com os índices das colunas a manter\n",
        "cols = [i for i in range(len(df.columns)) if i not in pular]\n",
        "# índices das colunas a manter\n",
        "cols"
      ],
      "metadata": {
        "id": "JqikDFoPyVqh"
      },
      "execution_count": null,
      "outputs": []
    },
    {
      "cell_type": "code",
      "source": [
        "# ler os dados desconsiderando as 5 primeiras linhas e a última linha\n",
        "# considerar as colunas que estão na lista 'cols'\n",
        "df = pd.read_excel('tabela6957.xlsx', skiprows=5, skipfooter=1, usecols=cols, sheet_name=1)\n",
        "# alterar os nomes das colunas\n",
        "df.columns = ['mun', 'nome_mun', 'cana', 'milho', 'soja', 'sorgo', 'trigo']"
      ],
      "metadata": {
        "id": "YQmKGhCiyVqi"
      },
      "execution_count": null,
      "outputs": []
    },
    {
      "cell_type": "code",
      "source": [
        "df.head()"
      ],
      "metadata": {
        "id": "rVstZsgRyVqj"
      },
      "execution_count": null,
      "outputs": []
    },
    {
      "cell_type": "markdown",
      "source": [
        "Número de observações e variáveis do conjunto de dados:"
      ],
      "metadata": {
        "id": "6JCteUbgyVqj"
      }
    },
    {
      "cell_type": "code",
      "source": [
        "df.shape"
      ],
      "metadata": {
        "id": "hT9MKtx_yVqk"
      },
      "execution_count": null,
      "outputs": []
    },
    {
      "cell_type": "markdown",
      "source": [
        "- A coluna 'município' tem o nome do município e, entre parênteses, a sigla do estado.\n",
        "- Vamos usar a função str.split para dividir o conteúdo a partir de '(':"
      ],
      "metadata": {
        "id": "okmjF6vNyVqk"
      }
    },
    {
      "cell_type": "code",
      "source": [
        "# a opção 'expand=True' divide a string e já permite criar as colunas com os\n",
        "# conteúdos divididos\n",
        "df[['nome_mun', 'sigla_uf']] = df['nome_mun'].str.split('(', expand=True)\n",
        "df.head()"
      ],
      "metadata": {
        "id": "_irtQyaLyVql"
      },
      "execution_count": null,
      "outputs": []
    },
    {
      "cell_type": "markdown",
      "source": [
        "- A coluna 'sigla_uf' tem o ')' no final.\n",
        "- Vamos usar a função str.replace para substituir ')' por nada\n",
        "- regex significa 'expressões regulares', uma sequência de caracteres que podem ser pesquisados, substituídos etc."
      ],
      "metadata": {
        "id": "oxRvcjubyVql"
      }
    },
    {
      "cell_type": "code",
      "source": [
        "df['sigla_uf'] = df['sigla_uf'].str.replace(')', '', regex=True)\n",
        "df.head()"
      ],
      "metadata": {
        "id": "AFWV7Uk8yVqm"
      },
      "execution_count": null,
      "outputs": []
    },
    {
      "cell_type": "code",
      "source": [
        "df.columns"
      ],
      "metadata": {
        "id": "jfkm0_18yVqm"
      },
      "execution_count": null,
      "outputs": []
    },
    {
      "cell_type": "code",
      "source": [
        "# reorganizar as colunas\n",
        "df = df.loc[:, ['mun', 'nome_mun', 'sigla_uf', 'cana', 'milho', 'soja', 'sorgo', 'trigo']]"
      ],
      "metadata": {
        "id": "u39i5uEtyVqn"
      },
      "execution_count": null,
      "outputs": []
    },
    {
      "cell_type": "markdown",
      "source": [
        "Há valores faltantes?"
      ],
      "metadata": {
        "id": "5dMw07eByVqn"
      }
    },
    {
      "cell_type": "code",
      "source": [
        "df.isna().sum()"
      ],
      "metadata": {
        "id": "AVYvX70zyVqn"
      },
      "execution_count": null,
      "outputs": []
    },
    {
      "cell_type": "code",
      "source": [
        "print(df[['cana']].value_counts())\n",
        "print(df[['milho']].value_counts())\n",
        "print(df[['soja']].value_counts())\n",
        "print(df[['sorgo']].value_counts())\n",
        "print(df[['trigo']].value_counts())"
      ],
      "metadata": {
        "id": "XIvPeIZXyVqo"
      },
      "execution_count": null,
      "outputs": []
    },
    {
      "cell_type": "markdown",
      "source": [
        "Nas notas da planilha, há as seguintes informações:\n",
        "\n",
        "* -: zero absoluto, não resultante de um cálculo ou arredondamento.\n",
        "* 0: zero resultante de um cálculo ou arredondamento.\n",
        "* X: valor inibido para não identificar o informante.\n",
        "* ..: valor não se aplica\n",
        "* ...: valor não disponível\n"
      ],
      "metadata": {
        "id": "btbTdQAoyVqo"
      }
    },
    {
      "cell_type": "markdown",
      "source": [
        "Primeira abordagem: substituir todos esses valores por 0.\n",
        "\n",
        "Mas antes, vamos fazer uma cópia dos dados que já trabalhamos:"
      ],
      "metadata": {
        "id": "L04InbrayVqp"
      }
    },
    {
      "cell_type": "code",
      "source": [
        "df1 = df.copy()"
      ],
      "metadata": {
        "id": "iJUKGts2yVqp"
      },
      "execution_count": null,
      "outputs": []
    },
    {
      "cell_type": "code",
      "source": [
        "df1 = df1.replace(['-', '...', 'X'], 0)"
      ],
      "metadata": {
        "id": "smIKvvxHyVqq"
      },
      "execution_count": null,
      "outputs": []
    },
    {
      "cell_type": "markdown",
      "source": [
        "Antes de limpar mais os dados, vamos visualizar o resumo estatístico:"
      ],
      "metadata": {
        "id": "6UJifK0-yVqq"
      }
    },
    {
      "cell_type": "code",
      "source": [
        "# resumo estatístico\n",
        "df1.iloc[:, 3:].describe()"
      ],
      "metadata": {
        "id": "em2Oi9XVyVqq"
      },
      "execution_count": null,
      "outputs": []
    },
    {
      "cell_type": "markdown",
      "source": [
        "Agora vamos adotar outra estratégia:\n",
        "- substituir por 0 se aparecer -\n",
        "- retirar as linhas em que aparecerem X, .. ou ...\n",
        "\n",
        "Vamos fazer outra cópia do *dataframe* df:"
      ],
      "metadata": {
        "id": "NzBWRuiHyVqr"
      }
    },
    {
      "cell_type": "code",
      "source": [
        "df2 = df.copy()"
      ],
      "metadata": {
        "id": "KRlIJBHvyVqr"
      },
      "execution_count": null,
      "outputs": []
    },
    {
      "cell_type": "code",
      "source": [
        "df2 = df2.replace(['-'], 0)\n",
        "df2 = df2.replace(['X', '..', '...'], np.nan).dropna(axis=0, how='any')\n",
        "df2.head()"
      ],
      "metadata": {
        "id": "1ylTKbRhyVqs"
      },
      "execution_count": null,
      "outputs": []
    },
    {
      "cell_type": "code",
      "source": [
        "df2.iloc[:, 3:].describe()"
      ],
      "metadata": {
        "id": "bQ1wdMKryVqs"
      },
      "execution_count": null,
      "outputs": []
    },
    {
      "cell_type": "markdown",
      "source": [
        "Se quisermos salvar o novo arquivo:"
      ],
      "metadata": {
        "id": "fOc8z6xWyVqt"
      }
    },
    {
      "cell_type": "code",
      "source": [
        "df2.shape"
      ],
      "metadata": {
        "id": "hjnIGRnryVqt"
      },
      "execution_count": null,
      "outputs": []
    },
    {
      "cell_type": "code",
      "source": [
        "df2.to_excel('valor-6957.xlsx', index=False)"
      ],
      "metadata": {
        "id": "v5yJvmAkyVqt"
      },
      "execution_count": null,
      "outputs": []
    },
    {
      "cell_type": "code",
      "source": [],
      "metadata": {
        "id": "ktV_4oiOiNOV"
      },
      "execution_count": null,
      "outputs": []
    }
  ]
}